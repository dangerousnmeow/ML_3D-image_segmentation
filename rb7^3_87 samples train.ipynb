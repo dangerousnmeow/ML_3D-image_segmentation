{
 "cells": [
  {
   "cell_type": "code",
   "execution_count": null,
   "metadata": {
    "colab": {},
    "colab_type": "code",
    "id": "quHL_oEdLcAy"
   },
   "outputs": [],
   "source": [
    "from numpy import load\n",
    "import pandas as pd\n",
    "import numpy as np\n",
    "from matplotlib import pyplot as plt\n",
    "import matplotlib\n",
    "from google.colab import drive\n",
    "import os"
   ]
  },
  {
   "cell_type": "code",
   "execution_count": null,
   "metadata": {
    "colab": {
     "base_uri": "https://localhost:8080/",
     "height": 139
    },
    "colab_type": "code",
    "executionInfo": {
     "elapsed": 26896,
     "status": "ok",
     "timestamp": 1587061484532,
     "user": {
      "displayName": "Clara Bai",
      "photoUrl": "https://lh3.googleusercontent.com/a-/AOh14GiYvZjNzCegvTO2CNpWAJ987eowMXL5e1eTL69ipA=s64",
      "userId": "14740747600813591913"
     },
     "user_tz": 240
    },
    "id": "4cDX9xpHLn2I",
    "outputId": "933de003-7ecd-4013-f086-938eeead3167"
   },
   "outputs": [
    {
     "name": "stdout",
     "output_type": "stream",
     "text": [
      "Go to this URL in a browser: https://accounts.google.com/o/oauth2/auth?client_id=947318989803-6bn6qk8qdgf4n4g3pfee6491hc0brc4i.apps.googleusercontent.com&redirect_uri=urn%3aietf%3awg%3aoauth%3a2.0%3aoob&response_type=code&scope=email%20https%3a%2f%2fwww.googleapis.com%2fauth%2fdocs.test%20https%3a%2f%2fwww.googleapis.com%2fauth%2fdrive%20https%3a%2f%2fwww.googleapis.com%2fauth%2fdrive.photos.readonly%20https%3a%2f%2fwww.googleapis.com%2fauth%2fpeopleapi.readonly\n",
      "\n",
      "Enter your authorization code:\n",
      "··········\n",
      "Mounted at /content/gdrive\n"
     ]
    },
    {
     "data": {
      "text/plain": [
       "['.config', 'gdrive', 'sample_data']"
      ]
     },
     "execution_count": 2,
     "metadata": {
      "tags": []
     },
     "output_type": "execute_result"
    }
   ],
   "source": [
    "drive.mount('/content/gdrive',force_remount=True)\n",
    "root_dir = \"/content/gdrive/My Drive/\"\n",
    "base_dir = root_dir + 'Segmented Numpy Data/'\n",
    "os.listdir()"
   ]
  },
  {
   "cell_type": "code",
   "execution_count": null,
   "metadata": {
    "colab": {},
    "colab_type": "code",
    "id": "7XIZqTzgLn-x"
   },
   "outputs": [],
   "source": [
    "#prepare the data from the images we cut\n",
    "\n",
    "data_output = np.zeros((1,6443008))\n",
    "data_input = np.zeros((1,6443008)) \n",
    "all_files = sorted(os.listdir(base_dir))\n",
    "\n",
    "for i in range(0,174):\n",
    "    filename = all_files[i]\n",
    "    if filename.endswith(\"seg.npz\"): \n",
    "      dict_data1 = load(base_dir + filename)\n",
    "      data_temp1 = dict_data1['arr_0']\n",
    "      data_temp1 = data_temp1.reshape(1,6443008)\n",
    "      data_output = np.vstack((data_output,data_temp1))\n",
    "    else:\n",
    "      dict_data2 = load(base_dir + filename)\n",
    "      data_temp2 = dict_data2['arr_0']\n",
    "      data_temp2 = data_temp2.reshape(1,6443008)\n",
    "      data_input = np.vstack((data_input,data_temp2))"
   ]
  },
  {
   "cell_type": "code",
   "execution_count": null,
   "metadata": {
    "colab": {
     "base_uri": "https://localhost:8080/",
     "height": 51
    },
    "colab_type": "code",
    "executionInfo": {
     "elapsed": 2418,
     "status": "ok",
     "timestamp": 1587061771862,
     "user": {
      "displayName": "Clara Bai",
      "photoUrl": "https://lh3.googleusercontent.com/a-/AOh14GiYvZjNzCegvTO2CNpWAJ987eowMXL5e1eTL69ipA=s64",
      "userId": "14740747600813591913"
     },
     "user_tz": 240
    },
    "id": "KWGF_e1LLoIt",
    "outputId": "ec5652dd-a8bb-40ed-ff2f-651104377285"
   },
   "outputs": [
    {
     "name": "stdout",
     "output_type": "stream",
     "text": [
      "(87, 6443008)\n",
      "(87, 6443008)\n"
     ]
    }
   ],
   "source": [
    "data_output = np.delete(data_output,0, axis = 0)\n",
    "data_input = np.delete(data_input,0,axis = 0)\n",
    "print(data_output.shape)\n",
    "print(data_input.shape)"
   ]
  },
  {
   "cell_type": "code",
   "execution_count": null,
   "metadata": {
    "colab": {
     "base_uri": "https://localhost:8080/",
     "height": 51
    },
    "colab_type": "code",
    "executionInfo": {
     "elapsed": 736,
     "status": "ok",
     "timestamp": 1587061774533,
     "user": {
      "displayName": "Clara Bai",
      "photoUrl": "https://lh3.googleusercontent.com/a-/AOh14GiYvZjNzCegvTO2CNpWAJ987eowMXL5e1eTL69ipA=s64",
      "userId": "14740747600813591913"
     },
     "user_tz": 240
    },
    "id": "AiZFNLRjL1YU",
    "outputId": "08666ce6-b6fc-4b9c-d7a7-2b0dd2c6cb1b"
   },
   "outputs": [
    {
     "name": "stdout",
     "output_type": "stream",
     "text": [
      "(87, 176, 208, 176)\n",
      "(87, 176, 208, 176)\n"
     ]
    }
   ],
   "source": [
    "data_input2 = data_input.reshape(87,176,208,176)\n",
    "data_output2 = data_output.reshape(87,176,208,176)\n",
    "print(data_output2.shape)\n",
    "print(data_input2.shape)"
   ]
  },
  {
   "cell_type": "code",
   "execution_count": null,
   "metadata": {
    "colab": {},
    "colab_type": "code",
    "id": "8JBUik9wL1kn"
   },
   "outputs": [],
   "source": [
    "#remove outliers\n",
    "data_input2[data_input2 < 0] = 0\n",
    "data_input2[data_input2 > 255] = 255\n",
    "\n",
    "data_output2[data_output2 < 0] = 0\n",
    "data_output2[data_output2 > 255] = 255"
   ]
  },
  {
   "cell_type": "code",
   "execution_count": null,
   "metadata": {
    "colab": {},
    "colab_type": "code",
    "id": "pSUxh4U6L1qS"
   },
   "outputs": [],
   "source": [
    "#find the boundary of x, y, z axis in each image\n",
    "index = np.zeros((87,6))\n",
    "\n",
    "# x-axis\n",
    "for i in range(0,87):\n",
    "  for j in range(0,88):\n",
    "    if (np.sum(data_output2[i,j,:,:])) > 0:\n",
    "      if j > 0:\n",
    "        index[i,0] = j\n",
    "        break\n",
    "\n",
    "for i in range(0,87):\n",
    "  for k in range(175,88,-1):\n",
    "    if (np.sum(data_output2[i,k,:,:])) > 0:\n",
    "      if k < 175:\n",
    "        index[i,1] = k\n",
    "        break"
   ]
  },
  {
   "cell_type": "code",
   "execution_count": null,
   "metadata": {
    "colab": {},
    "colab_type": "code",
    "id": "Wc0xeyDjL76T"
   },
   "outputs": [],
   "source": [
    "# y-axis\n",
    "for i in range(0,87):\n",
    "  for j in range(0,104):\n",
    "    if (np.sum(data_output2[i,:,j,:])) > 0:\n",
    "      if j > 0:\n",
    "        index[i,2] = j\n",
    "        break\n",
    "\n",
    "for i in range(0,87):\n",
    "  for k in range(175,88,-1):\n",
    "    if (np.sum(data_output2[i,:,k,:])) > 0:\n",
    "      if k < 175:\n",
    "        index[i,3] = k\n",
    "        break"
   ]
  },
  {
   "cell_type": "code",
   "execution_count": null,
   "metadata": {
    "colab": {},
    "colab_type": "code",
    "id": "i0NeJ1aaMAcA"
   },
   "outputs": [],
   "source": [
    "# z-axis\n",
    "for i in range(0,87):\n",
    "  for j in range(0,88):\n",
    "    if (np.sum(data_output2[i,:,:,j])) > 0:\n",
    "      if j > 0:\n",
    "        index[i,4] = j\n",
    "        break\n",
    "\n",
    "for i in range(0,87):\n",
    "  for k in range(175,88,-1):\n",
    "    if (np.sum(data_output2[i,:,:,k])) > 0:\n",
    "      if k < 175:\n",
    "        index[i,5] = k\n",
    "        break"
   ]
  },
  {
   "cell_type": "code",
   "execution_count": null,
   "metadata": {
    "colab": {
     "base_uri": "https://localhost:8080/",
     "height": 85
    },
    "colab_type": "code",
    "executionInfo": {
     "elapsed": 486,
     "status": "ok",
     "timestamp": 1587061792190,
     "user": {
      "displayName": "Clara Bai",
      "photoUrl": "https://lh3.googleusercontent.com/a-/AOh14GiYvZjNzCegvTO2CNpWAJ987eowMXL5e1eTL69ipA=s64",
      "userId": "14740747600813591913"
     },
     "user_tz": 240
    },
    "id": "22gAguM6MCYD",
    "outputId": "95ab7595-be86-4782-bd0c-289d58db6abf"
   },
   "outputs": [
    {
     "name": "stdout",
     "output_type": "stream",
     "text": [
      "(87, 176, 208, 176)\n",
      "(87, 176, 208, 176)\n",
      "(87, 80, 120, 120)\n",
      "(87, 80, 120, 120)\n"
     ]
    }
   ],
   "source": [
    "print(data_input2.shape)\n",
    "print(data_output2.shape)\n",
    "\n",
    "# The common boundaries are the following\n",
    "# x-axis (42,121)\n",
    "# y-axis (40,161)\n",
    "# z-axis (32,134)\n",
    "\n",
    "# Jimmy: We will adjust a few more or less pixels to fit a good\n",
    "#        dimension shape (Y-axis -8, Z-axis +17) for the model\n",
    "# Extract the part include ventricles\n",
    "data_input_cut = data_input2[:,42:122,41:161,24:144]\n",
    "data_output_cut = data_output2[:,42:122,41:161,24:144]\n",
    "print(data_input_cut.shape)\n",
    "print(data_output_cut.shape)\n",
    "#Final Dimension should be 80, 120,120"
   ]
  },
  {
   "cell_type": "code",
   "execution_count": null,
   "metadata": {
    "colab": {
     "base_uri": "https://localhost:8080/",
     "height": 167
    },
    "colab_type": "code",
    "executionInfo": {
     "elapsed": 733,
     "status": "ok",
     "timestamp": 1587061796954,
     "user": {
      "displayName": "Clara Bai",
      "photoUrl": "https://lh3.googleusercontent.com/a-/AOh14GiYvZjNzCegvTO2CNpWAJ987eowMXL5e1eTL69ipA=s64",
      "userId": "14740747600813591913"
     },
     "user_tz": 240
    },
    "id": "cdyMlmGdMEXI",
    "outputId": "9a8c83fd-e9d5-42c4-ffa4-9cc97f9965ea"
   },
   "outputs": [
    {
     "data": {
      "text/plain": [
       "<matplotlib.image.AxesImage at 0x7f7388d5fda0>"
      ]
     },
     "execution_count": 11,
     "metadata": {
      "tags": []
     },
     "output_type": "execute_result"
    },
    {
     "data": {
      "image/png": "[encoded data removed]",
      "text/plain": [
       "<Figure size 432x288 with 3 Axes>"
      ]
     },
     "metadata": {
      "needs_background": "light",
      "tags": []
     },
     "output_type": "display_data"
    }
   ],
   "source": [
    "# See the first image for example\n",
    "\n",
    "f, ax = plt.subplots(1,3)\n",
    "\n",
    "ax[0].imshow(data_input_cut[0,50,:,:],cmap=\"Greys\")\n",
    "ax[0].imshow(np.ma.masked_array(data_output_cut[0,50,:,:], data_output_cut[0,50,:,:]==0.0))\n",
    "\n",
    "ax[1].imshow(data_input_cut[0,:,50,:],cmap=\"Greys\")\n",
    "ax[1].imshow(np.ma.masked_array(data_output_cut[0,:,50,:], data_output_cut[0,:,50,:]==0.0))\n",
    "\n",
    "ax[2].imshow(data_input_cut[0,:,:,50],cmap=\"Greys\")\n",
    "ax[2].imshow(np.ma.masked_array(data_output_cut[0,:,:,50], data_output_cut[0,:,:,50]==0.0))"
   ]
  },
  {
   "cell_type": "code",
   "execution_count": null,
   "metadata": {
    "colab": {
     "base_uri": "https://localhost:8080/",
     "height": 85
    },
    "colab_type": "code",
    "executionInfo": {
     "elapsed": 403,
     "status": "ok",
     "timestamp": 1587061799976,
     "user": {
      "displayName": "Clara Bai",
      "photoUrl": "https://lh3.googleusercontent.com/a-/AOh14GiYvZjNzCegvTO2CNpWAJ987eowMXL5e1eTL69ipA=s64",
      "userId": "14740747600813591913"
     },
     "user_tz": 240
    },
    "id": "GqBGCjVAMOlS",
    "outputId": "3c340272-0c10-4d5b-ca3e-22c2ad0a51b1"
   },
   "outputs": [
    {
     "name": "stdout",
     "output_type": "stream",
     "text": [
      "(70, 80, 120, 120)\n",
      "(17, 80, 120, 120)\n",
      "(70, 80, 120, 120)\n",
      "(17, 80, 120, 120)\n"
     ]
    }
   ],
   "source": [
    "X_dataset = data_input_cut\n",
    "X_train = X_dataset[0:70,0:,0:,0:]\n",
    "X_test = X_dataset[70:,0:,0:,0:]\n",
    "\n",
    "Y_dataset = data_output_cut\n",
    "Y_train = Y_dataset[0:70,0:,0:,0:]\n",
    "Y_test = Y_dataset[70:,0:,0:,0:]\n",
    "\n",
    "print(X_train.shape)\n",
    "print(X_test.shape)\n",
    "print(Y_train.shape)\n",
    "print(Y_test.shape)"
   ]
  },
  {
   "cell_type": "code",
   "execution_count": null,
   "metadata": {
    "colab": {
     "base_uri": "https://localhost:8080/",
     "height": 85
    },
    "colab_type": "code",
    "executionInfo": {
     "elapsed": 522,
     "status": "ok",
     "timestamp": 1587061802224,
     "user": {
      "displayName": "Clara Bai",
      "photoUrl": "https://lh3.googleusercontent.com/a-/AOh14GiYvZjNzCegvTO2CNpWAJ987eowMXL5e1eTL69ipA=s64",
      "userId": "14740747600813591913"
     },
     "user_tz": 240
    },
    "id": "rGc0TS-LMP3n",
    "outputId": "e7fee747-4a54-4f1a-ee34-2537347186e9"
   },
   "outputs": [
    {
     "name": "stdout",
     "output_type": "stream",
     "text": [
      "(70, 80, 120, 120, 1)\n",
      "(17, 80, 120, 120, 1)\n",
      "(70, 80, 120, 120, 1)\n",
      "(17, 80, 120, 120, 1)\n"
     ]
    }
   ],
   "source": [
    "X_train = X_train.reshape(-1, 80,120,120, 1)\n",
    "X_test = X_test.reshape(-1, 80,120,120,1)\n",
    "Y_train = Y_train.reshape(-1,80,120,120, 1)\n",
    "Y_test = Y_test.reshape(-1, 80,120,120, 1)\n",
    "\n",
    "print(X_train.shape)\n",
    "print(X_test.shape)\n",
    "print(Y_train.shape)\n",
    "print(Y_test.shape)"
   ]
  },
  {
   "cell_type": "code",
   "execution_count": null,
   "metadata": {
    "colab": {
     "base_uri": "https://localhost:8080/",
     "height": 34
    },
    "colab_type": "code",
    "executionInfo": {
     "elapsed": 2283,
     "status": "ok",
     "timestamp": 1587061806698,
     "user": {
      "displayName": "Clara Bai",
      "photoUrl": "https://lh3.googleusercontent.com/a-/AOh14GiYvZjNzCegvTO2CNpWAJ987eowMXL5e1eTL69ipA=s64",
      "userId": "14740747600813591913"
     },
     "user_tz": 240
    },
    "id": "d3ir7oaYMSJ_",
    "outputId": "1d940dbb-5706-4974-d719-8604ec43635c"
   },
   "outputs": [
    {
     "name": "stderr",
     "output_type": "stream",
     "text": [
      "Using TensorFlow backend.\n"
     ]
    }
   ],
   "source": [
    "import keras\n",
    "from keras import backend as K\n",
    "from keras.layers.convolutional import Conv2D,Conv3D,Conv2DTranspose,MaxPooling3D,UpSampling3D\n",
    "from keras.layers import Input, Dense, Activation,Dropout\n",
    "from keras.layers import concatenate \n",
    "from keras.models import Model\n",
    "from keras.optimizers import Adam\n",
    "from keras.callbacks import ModelCheckpoint\n",
    "from keras.models import load_model"
   ]
  },
  {
   "cell_type": "code",
   "execution_count": null,
   "metadata": {
    "colab": {
     "base_uri": "https://localhost:8080/",
     "height": 1000
    },
    "colab_type": "code",
    "executionInfo": {
     "elapsed": 2365,
     "status": "ok",
     "timestamp": 1587061814396,
     "user": {
      "displayName": "Clara Bai",
      "photoUrl": "https://lh3.googleusercontent.com/a-/AOh14GiYvZjNzCegvTO2CNpWAJ987eowMXL5e1eTL69ipA=s64",
      "userId": "14740747600813591913"
     },
     "user_tz": 240
    },
    "id": "l6UTWIMBMT0f",
    "outputId": "6193d352-a46a-4154-ba7e-3f0a1cdf0fbf"
   },
   "outputs": [
    {
     "name": "stdout",
     "output_type": "stream",
     "text": [
      "Model: \"model_1\"\n",
      "__________________________________________________________________________________________________\n",
      "Layer (type)                    Output Shape         Param #     Connected to                     \n",
      "==================================================================================================\n",
      "input_1 (InputLayer)            (None, 80, 120, 120, 0                                            \n",
      "__________________________________________________________________________________________________\n",
      "conv3d_1 (Conv3D)               (None, 80, 120, 120, 2752        input_1[0][0]                    \n",
      "__________________________________________________________________________________________________\n",
      "conv3d_2 (Conv3D)               (None, 80, 120, 120, 21960       conv3d_1[0][0]                   \n",
      "__________________________________________________________________________________________________\n",
      "max_pooling3d_1 (MaxPooling3D)  (None, 40, 60, 60, 8 0           conv3d_2[0][0]                   \n",
      "__________________________________________________________________________________________________\n",
      "conv3d_3 (Conv3D)               (None, 40, 60, 60, 1 3472        max_pooling3d_1[0][0]            \n",
      "__________________________________________________________________________________________________\n",
      "conv3d_4 (Conv3D)               (None, 40, 60, 60, 1 6928        conv3d_3[0][0]                   \n",
      "__________________________________________________________________________________________________\n",
      "max_pooling3d_2 (MaxPooling3D)  (None, 20, 30, 30, 1 0           conv3d_4[0][0]                   \n",
      "__________________________________________________________________________________________________\n",
      "conv3d_5 (Conv3D)               (None, 20, 30, 30, 3 13856       max_pooling3d_2[0][0]            \n",
      "__________________________________________________________________________________________________\n",
      "conv3d_6 (Conv3D)               (None, 20, 30, 30, 3 27680       conv3d_5[0][0]                   \n",
      "__________________________________________________________________________________________________\n",
      "dropout_1 (Dropout)             (None, 20, 30, 30, 3 0           conv3d_6[0][0]                   \n",
      "__________________________________________________________________________________________________\n",
      "max_pooling3d_3 (MaxPooling3D)  (None, 10, 15, 15, 3 0           dropout_1[0][0]                  \n",
      "__________________________________________________________________________________________________\n",
      "conv3d_7 (Conv3D)               (None, 10, 15, 15, 6 55360       max_pooling3d_3[0][0]            \n",
      "__________________________________________________________________________________________________\n",
      "conv3d_8 (Conv3D)               (None, 10, 15, 15, 6 110656      conv3d_7[0][0]                   \n",
      "__________________________________________________________________________________________________\n",
      "dropout_2 (Dropout)             (None, 10, 15, 15, 6 0           conv3d_8[0][0]                   \n",
      "__________________________________________________________________________________________________\n",
      "up_sampling3d_1 (UpSampling3D)  (None, 20, 30, 30, 6 0           dropout_2[0][0]                  \n",
      "__________________________________________________________________________________________________\n",
      "conv3d_9 (Conv3D)               (None, 20, 30, 30, 3 16416       up_sampling3d_1[0][0]            \n",
      "__________________________________________________________________________________________________\n",
      "concatenate_1 (Concatenate)     (None, 20, 30, 30, 6 0           conv3d_6[0][0]                   \n",
      "                                                                 conv3d_9[0][0]                   \n",
      "__________________________________________________________________________________________________\n",
      "conv3d_10 (Conv3D)              (None, 20, 30, 30, 3 55328       concatenate_1[0][0]              \n",
      "__________________________________________________________________________________________________\n",
      "up_sampling3d_2 (UpSampling3D)  (None, 40, 60, 60, 3 0           conv3d_10[0][0]                  \n",
      "__________________________________________________________________________________________________\n",
      "conv3d_11 (Conv3D)              (None, 40, 60, 60, 1 4112        up_sampling3d_2[0][0]            \n",
      "__________________________________________________________________________________________________\n",
      "concatenate_2 (Concatenate)     (None, 40, 60, 60, 3 0           conv3d_4[0][0]                   \n",
      "                                                                 conv3d_11[0][0]                  \n",
      "__________________________________________________________________________________________________\n",
      "conv3d_12 (Conv3D)              (None, 40, 60, 60, 1 13840       concatenate_2[0][0]              \n",
      "__________________________________________________________________________________________________\n",
      "conv3d_13 (Conv3D)              (None, 40, 60, 60, 1 6928        conv3d_12[0][0]                  \n",
      "__________________________________________________________________________________________________\n",
      "up_sampling3d_3 (UpSampling3D)  (None, 80, 120, 120, 0           conv3d_13[0][0]                  \n",
      "__________________________________________________________________________________________________\n",
      "conv3d_14 (Conv3D)              (None, 80, 120, 120, 1032        up_sampling3d_3[0][0]            \n",
      "__________________________________________________________________________________________________\n",
      "concatenate_3 (Concatenate)     (None, 80, 120, 120, 0           conv3d_2[0][0]                   \n",
      "                                                                 conv3d_14[0][0]                  \n",
      "__________________________________________________________________________________________________\n",
      "conv3d_15 (Conv3D)              (None, 80, 120, 120, 3464        concatenate_3[0][0]              \n",
      "__________________________________________________________________________________________________\n",
      "conv3d_16 (Conv3D)              (None, 80, 120, 120, 1736        conv3d_15[0][0]                  \n",
      "__________________________________________________________________________________________________\n",
      "conv3d_17 (Conv3D)              (None, 80, 120, 120, 434         conv3d_16[0][0]                  \n",
      "__________________________________________________________________________________________________\n",
      "conv3d_18 (Conv3D)              (None, 80, 120, 120, 3           conv3d_17[0][0]                  \n",
      "==================================================================================================\n",
      "Total params: 345,957\n",
      "Trainable params: 345,957\n",
      "Non-trainable params: 0\n",
      "__________________________________________________________________________________________________\n",
      "None\n"
     ]
    },
    {
     "name": "stderr",
     "output_type": "stream",
     "text": [
      "/usr/local/lib/python3.6/dist-packages/ipykernel_launcher.py:35: UserWarning: Update your `Model` call to the Keras 2 API: `Model(inputs=Tensor(\"in..., outputs=Tensor(\"co...)`\n"
     ]
    }
   ],
   "source": [
    "input_size = (80,120,120,1)\n",
    "\n",
    "inputs = Input(input_size)\n",
    "conv1 = Conv3D(8, 7, activation = 'relu', padding = 'same', kernel_initializer = 'he_normal')(inputs)\n",
    "conv1 = Conv3D(8, 7, activation = 'relu', padding = 'same', kernel_initializer = 'he_normal')(conv1)\n",
    "pool1 = MaxPooling3D(pool_size=(2, 2, 2))(conv1)\n",
    "conv2 = Conv3D(16, 3, activation = 'relu', padding = 'same', kernel_initializer = 'he_normal')(pool1)\n",
    "conv2 = Conv3D(16, 3, activation = 'relu', padding = 'same', kernel_initializer = 'he_normal')(conv2)\n",
    "pool2 = MaxPooling3D(pool_size=(2, 2, 2))(conv2)\n",
    "conv3 = Conv3D(32, 3, activation = 'relu', padding = 'same', kernel_initializer = 'he_normal')(pool2)\n",
    "conv3 = Conv3D(32, 3, activation = 'relu', padding = 'same', kernel_initializer = 'he_normal')(conv3)\n",
    "drop3 = Dropout(0.5)(conv3)\n",
    "pool3 = MaxPooling3D(pool_size=(2, 2, 2))(drop3)\n",
    "\n",
    "conv4 = Conv3D(64, 3, activation = 'relu', padding = 'same', kernel_initializer = 'he_normal')(pool3)\n",
    "conv4 = Conv3D(64, 3, activation = 'relu', padding = 'same', kernel_initializer = 'he_normal')(conv4)\n",
    "drop4 = Dropout(0.5)(conv4)\n",
    "\n",
    "up5 = Conv3D(32, 2, activation = 'relu', padding = 'same', kernel_initializer = 'he_normal')(UpSampling3D(size = (2,2,2))(drop4))\n",
    "merge5 = concatenate([conv3,up5], axis = 4)\n",
    "conv5 = Conv3D(32, 3, activation = 'relu', padding = 'same', kernel_initializer = 'he_normal')(merge5)\n",
    "\n",
    "up6 = Conv3D(16, 2, activation = 'relu', padding = 'same', kernel_initializer = 'he_normal')(UpSampling3D(size = (2,2,2))(conv5))\n",
    "merge6 = concatenate([conv2,up6], axis = 4)\n",
    "conv6 = Conv3D(16, 3, activation = 'relu', padding = 'same', kernel_initializer = 'he_normal')(merge6)\n",
    "conv6 = Conv3D(16, 3, activation = 'relu', padding = 'same', kernel_initializer = 'he_normal')(conv6)\n",
    "\n",
    "up7 = Conv3D(8, 2, activation = 'relu', padding = 'same', kernel_initializer = 'he_normal')(UpSampling3D(size = (2,2,2))(conv6))\n",
    "merge7 = concatenate([conv1,up7], axis = 4)\n",
    "conv7 = Conv3D(8, 3, activation = 'relu', padding = 'same', kernel_initializer = 'he_normal')(merge7)\n",
    "conv7 = Conv3D(8, 3, activation = 'relu', padding = 'same', kernel_initializer = 'he_normal')(conv7)\n",
    "conv7 = Conv3D(2, 3, activation = 'relu', padding = 'same', kernel_initializer = 'he_normal')(conv7)\n",
    "conv8 = Conv3D(1, 1, activation = 'sigmoid')(conv7)\n",
    "\n",
    "model = Model(input = inputs, output = conv8)\n",
    "\n",
    "model.compile(optimizer = Adam(lr = 1e-4), loss = \"binary_crossentropy\", metrics = ['accuracy'])\n",
    "\n",
    "print(model.summary())"
   ]
  },
  {
   "cell_type": "code",
   "execution_count": null,
   "metadata": {
    "colab": {
     "base_uri": "https://localhost:8080/",
     "height": 1000
    },
    "colab_type": "code",
    "executionInfo": {
     "elapsed": 28393450,
     "status": "error",
     "timestamp": 1587091135064,
     "user": {
      "displayName": "Clara Bai",
      "photoUrl": "https://lh3.googleusercontent.com/a-/AOh14GiYvZjNzCegvTO2CNpWAJ987eowMXL5e1eTL69ipA=s64",
      "userId": "14740747600813591913"
     },
     "user_tz": 240
    },
    "id": "G8KXr2lG3ku2",
    "outputId": "13e4d7b6-cb46-49fc-eb30-c640089244c5"
   },
   "outputs": [
    {
     "name": "stdout",
     "output_type": "stream",
     "text": [
      "Train on 70 samples, validate on 17 samples\n",
      "Epoch 1/60\n",
      "70/70 [==============================] - 603s 9s/step - loss: 0.2461 - accuracy: 0.9623 - val_loss: 0.2277 - val_accuracy: 0.9662\n",
      "\n",
      "Epoch 00001: saving model to /content/gdrive/My Drive/ml model/model_001-0.2461.h5\n",
      "Epoch 2/60\n",
      "70/70 [==============================] - 603s 9s/step - loss: 0.1987 - accuracy: 0.9669 - val_loss: 0.1904 - val_accuracy: 0.9688\n",
      "\n",
      "Epoch 00002: saving model to /content/gdrive/My Drive/ml model/model_002-0.1987.h5\n",
      "Epoch 3/60\n",
      "70/70 [==============================] - 603s 9s/step - loss: 0.1682 - accuracy: 0.9692 - val_loss: 0.1705 - val_accuracy: 0.9698\n",
      "\n",
      "Epoch 00003: saving model to /content/gdrive/My Drive/ml model/model_003-0.1682.h5\n",
      "Epoch 4/60\n",
      "70/70 [==============================] - 602s 9s/step - loss: 0.1499 - accuracy: 0.9705 - val_loss: 0.1254 - val_accuracy: 0.9759\n",
      "\n",
      "Epoch 00004: saving model to /content/gdrive/My Drive/ml model/model_004-0.1499.h5\n",
      "Epoch 5/60\n",
      "70/70 [==============================] - 603s 9s/step - loss: 0.1425 - accuracy: 0.9715 - val_loss: 0.1244 - val_accuracy: 0.9725\n",
      "\n",
      "Epoch 00005: saving model to /content/gdrive/My Drive/ml model/model_005-0.1425.h5\n",
      "Epoch 6/60\n",
      "70/70 [==============================] - 603s 9s/step - loss: 0.1225 - accuracy: 0.9723 - val_loss: 0.1024 - val_accuracy: 0.9776\n",
      "\n",
      "Epoch 00006: saving model to /content/gdrive/My Drive/ml model/model_006-0.1225.h5\n",
      "Epoch 7/60\n",
      "70/70 [==============================] - 603s 9s/step - loss: 0.1132 - accuracy: 0.9727 - val_loss: 0.1379 - val_accuracy: 0.9704\n",
      "\n",
      "Epoch 00007: saving model to /content/gdrive/My Drive/ml model/model_007-0.1132.h5\n",
      "Epoch 8/60\n",
      "70/70 [==============================] - 606s 9s/step - loss: 0.1233 - accuracy: 0.9715 - val_loss: 0.1827 - val_accuracy: 0.9595\n",
      "\n",
      "Epoch 00008: saving model to /content/gdrive/My Drive/ml model/model_008-0.1233.h5\n",
      "Epoch 9/60\n",
      "70/70 [==============================] - 604s 9s/step - loss: 0.1378 - accuracy: 0.9716 - val_loss: 0.0979 - val_accuracy: 0.9794\n",
      "\n",
      "Epoch 00009: saving model to /content/gdrive/My Drive/ml model/model_009-0.1378.h5\n",
      "Epoch 10/60\n",
      "70/70 [==============================] - 605s 9s/step - loss: 0.1079 - accuracy: 0.9736 - val_loss: 0.0975 - val_accuracy: 0.9774\n",
      "\n",
      "Epoch 00010: saving model to /content/gdrive/My Drive/ml model/model_010-0.1079.h5\n",
      "Epoch 11/60\n",
      "70/70 [==============================] - 607s 9s/step - loss: 0.1104 - accuracy: 0.9731 - val_loss: 0.0901 - val_accuracy: 0.9795\n",
      "\n",
      "Epoch 00011: saving model to /content/gdrive/My Drive/ml model/model_011-0.1104.h5\n",
      "Epoch 12/60\n",
      "70/70 [==============================] - 604s 9s/step - loss: 0.1238 - accuracy: 0.9720 - val_loss: 0.0911 - val_accuracy: 0.9797\n",
      "\n",
      "Epoch 00012: saving model to /content/gdrive/My Drive/ml model/model_012-0.1238.h5\n",
      "Epoch 13/60\n",
      "70/70 [==============================] - 603s 9s/step - loss: 0.1178 - accuracy: 0.9732 - val_loss: 0.0938 - val_accuracy: 0.9793\n",
      "\n",
      "Epoch 00013: saving model to /content/gdrive/My Drive/ml model/model_013-0.1178.h5\n",
      "Epoch 14/60\n",
      "70/70 [==============================] - 607s 9s/step - loss: 0.1165 - accuracy: 0.9729 - val_loss: 0.1095 - val_accuracy: 0.9791\n",
      "\n",
      "Epoch 00014: saving model to /content/gdrive/My Drive/ml model/model_014-0.1165.h5\n",
      "Epoch 15/60\n",
      "70/70 [==============================] - 608s 9s/step - loss: 0.1165 - accuracy: 0.9736 - val_loss: 0.1494 - val_accuracy: 0.9702\n",
      "\n",
      "Epoch 00015: saving model to /content/gdrive/My Drive/ml model/model_015-0.1165.h5\n",
      "Epoch 16/60\n",
      "70/70 [==============================] - 607s 9s/step - loss: 0.1166 - accuracy: 0.9730 - val_loss: 0.1209 - val_accuracy: 0.9791\n",
      "\n",
      "Epoch 00016: saving model to /content/gdrive/My Drive/ml model/model_016-0.1166.h5\n",
      "Epoch 17/60\n",
      "70/70 [==============================] - 609s 9s/step - loss: 0.1371 - accuracy: 0.9723 - val_loss: 0.0911 - val_accuracy: 0.9798\n",
      "\n",
      "Epoch 00017: saving model to /content/gdrive/My Drive/ml model/model_017-0.1371.h5\n",
      "Epoch 18/60\n",
      "70/70 [==============================] - 607s 9s/step - loss: 0.1156 - accuracy: 0.9736 - val_loss: 0.0893 - val_accuracy: 0.9797\n",
      "\n",
      "Epoch 00018: saving model to /content/gdrive/My Drive/ml model/model_018-0.1156.h5\n",
      "Epoch 19/60\n",
      "70/70 [==============================] - 608s 9s/step - loss: 0.1006 - accuracy: 0.9747 - val_loss: 0.0832 - val_accuracy: 0.9796\n",
      "\n",
      "Epoch 00019: saving model to /content/gdrive/My Drive/ml model/model_019-0.1006.h5\n",
      "Epoch 20/60\n",
      "70/70 [==============================] - 609s 9s/step - loss: 0.1093 - accuracy: 0.9740 - val_loss: 0.0945 - val_accuracy: 0.9790\n",
      "\n",
      "Epoch 00020: saving model to /content/gdrive/My Drive/ml model/model_020-0.1093.h5\n",
      "Epoch 21/60\n",
      "70/70 [==============================] - 611s 9s/step - loss: 0.1094 - accuracy: 0.9736 - val_loss: 0.0989 - val_accuracy: 0.9792\n",
      "\n",
      "Epoch 00021: saving model to /content/gdrive/My Drive/ml model/model_021-0.1094.h5\n",
      "Epoch 22/60\n",
      "70/70 [==============================] - 612s 9s/step - loss: 0.0967 - accuracy: 0.9742 - val_loss: 0.0851 - val_accuracy: 0.9800\n",
      "\n",
      "Epoch 00022: saving model to /content/gdrive/My Drive/ml model/model_022-0.0967.h5\n",
      "Epoch 23/60\n",
      "70/70 [==============================] - 613s 9s/step - loss: 0.0933 - accuracy: 0.9741 - val_loss: 0.0772 - val_accuracy: 0.9791\n",
      "\n",
      "Epoch 00023: saving model to /content/gdrive/My Drive/ml model/model_023-0.0933.h5\n",
      "Epoch 24/60\n",
      "70/70 [==============================] - 610s 9s/step - loss: 0.1114 - accuracy: 0.9729 - val_loss: 0.1241 - val_accuracy: 0.9796\n",
      "\n",
      "Epoch 00024: saving model to /content/gdrive/My Drive/ml model/model_024-0.1114.h5\n",
      "Epoch 25/60\n",
      "70/70 [==============================] - 611s 9s/step - loss: 0.0978 - accuracy: 0.9737 - val_loss: 0.0735 - val_accuracy: 0.9801\n",
      "\n",
      "Epoch 00025: saving model to /content/gdrive/My Drive/ml model/model_025-0.0978.h5\n",
      "Epoch 26/60\n",
      "70/70 [==============================] - 612s 9s/step - loss: 0.0958 - accuracy: 0.9738 - val_loss: 0.0801 - val_accuracy: 0.9793\n",
      "\n",
      "Epoch 00026: saving model to /content/gdrive/My Drive/ml model/model_026-0.0958.h5\n",
      "Epoch 27/60\n",
      "70/70 [==============================] - 613s 9s/step - loss: 0.0950 - accuracy: 0.9744 - val_loss: 0.0806 - val_accuracy: 0.9796\n",
      "\n",
      "Epoch 00027: saving model to /content/gdrive/My Drive/ml model/model_027-0.0950.h5\n",
      "Epoch 28/60\n",
      "70/70 [==============================] - 612s 9s/step - loss: 0.0893 - accuracy: 0.9747 - val_loss: 0.0742 - val_accuracy: 0.9801\n",
      "\n",
      "Epoch 00028: saving model to /content/gdrive/My Drive/ml model/model_028-0.0893.h5\n",
      "Epoch 29/60\n",
      "70/70 [==============================] - 621s 9s/step - loss: 0.0924 - accuracy: 0.9745 - val_loss: 0.0957 - val_accuracy: 0.9798\n",
      "\n",
      "Epoch 00029: saving model to /content/gdrive/My Drive/ml model/model_029-0.0924.h5\n",
      "Epoch 30/60\n",
      "70/70 [==============================] - 615s 9s/step - loss: 0.0960 - accuracy: 0.9743 - val_loss: 0.0794 - val_accuracy: 0.9799\n",
      "\n",
      "Epoch 00030: saving model to /content/gdrive/My Drive/ml model/model_030-0.0960.h5\n",
      "Epoch 31/60\n",
      "70/70 [==============================] - 621s 9s/step - loss: 0.0862 - accuracy: 0.9747 - val_loss: 0.0780 - val_accuracy: 0.9798\n",
      "\n",
      "Epoch 00031: saving model to /content/gdrive/My Drive/ml model/model_031-0.0862.h5\n",
      "Epoch 32/60\n",
      "70/70 [==============================] - 617s 9s/step - loss: 0.1025 - accuracy: 0.9734 - val_loss: 0.0795 - val_accuracy: 0.9800\n",
      "\n",
      "Epoch 00032: saving model to /content/gdrive/My Drive/ml model/model_032-0.1025.h5\n",
      "Epoch 33/60\n",
      "70/70 [==============================] - 619s 9s/step - loss: 0.0990 - accuracy: 0.9740 - val_loss: 0.0812 - val_accuracy: 0.9791\n",
      "\n",
      "Epoch 00033: saving model to /content/gdrive/My Drive/ml model/model_033-0.0990.h5\n",
      "Epoch 34/60\n",
      "70/70 [==============================] - 616s 9s/step - loss: 0.0987 - accuracy: 0.9736 - val_loss: 0.0984 - val_accuracy: 0.9788\n",
      "\n",
      "Epoch 00034: saving model to /content/gdrive/My Drive/ml model/model_034-0.0987.h5\n",
      "Epoch 35/60\n",
      "70/70 [==============================] - 618s 9s/step - loss: 0.1150 - accuracy: 0.9720 - val_loss: 0.0781 - val_accuracy: 0.9789\n",
      "\n",
      "Epoch 00035: saving model to /content/gdrive/My Drive/ml model/model_035-0.1150.h5\n",
      "Epoch 36/60\n",
      "70/70 [==============================] - 620s 9s/step - loss: 0.0966 - accuracy: 0.9732 - val_loss: 0.0824 - val_accuracy: 0.9790\n",
      "\n",
      "Epoch 00036: saving model to /content/gdrive/My Drive/ml model/model_036-0.0966.h5\n",
      "Epoch 37/60\n",
      "70/70 [==============================] - 613s 9s/step - loss: 0.0964 - accuracy: 0.9732 - val_loss: 0.0833 - val_accuracy: 0.9796\n",
      "\n",
      "Epoch 00037: saving model to /content/gdrive/My Drive/ml model/model_037-0.0964.h5\n",
      "Epoch 38/60\n",
      "70/70 [==============================] - 613s 9s/step - loss: 0.1024 - accuracy: 0.9727 - val_loss: 0.1085 - val_accuracy: 0.9796\n",
      "\n",
      "Epoch 00038: saving model to /content/gdrive/My Drive/ml model/model_038-0.1024.h5\n",
      "Epoch 39/60\n",
      "70/70 [==============================] - 614s 9s/step - loss: 0.1007 - accuracy: 0.9732 - val_loss: 0.0788 - val_accuracy: 0.9789\n",
      "\n",
      "Epoch 00039: saving model to /content/gdrive/My Drive/ml model/model_039-0.1007.h5\n",
      "Epoch 40/60\n",
      "70/70 [==============================] - 614s 9s/step - loss: 0.0987 - accuracy: 0.9734 - val_loss: 0.1184 - val_accuracy: 0.9795\n",
      "\n",
      "Epoch 00040: saving model to /content/gdrive/My Drive/ml model/model_040-0.0987.h5\n",
      "Epoch 41/60\n",
      "70/70 [==============================] - 615s 9s/step - loss: 0.1031 - accuracy: 0.9728 - val_loss: 0.0825 - val_accuracy: 0.9793\n",
      "\n",
      "Epoch 00041: saving model to /content/gdrive/My Drive/ml model/model_041-0.1031.h5\n",
      "Epoch 42/60\n",
      "70/70 [==============================] - 615s 9s/step - loss: 0.1091 - accuracy: 0.9720 - val_loss: 0.0772 - val_accuracy: 0.9791\n",
      "\n",
      "Epoch 00042: saving model to /content/gdrive/My Drive/ml model/model_042-0.1091.h5\n",
      "Epoch 43/60\n",
      "70/70 [==============================] - 617s 9s/step - loss: 0.0997 - accuracy: 0.9725 - val_loss: 0.0925 - val_accuracy: 0.9786\n",
      "\n",
      "Epoch 00043: saving model to /content/gdrive/My Drive/ml model/model_043-0.0997.h5\n",
      "Epoch 44/60\n",
      "70/70 [==============================] - 619s 9s/step - loss: 0.1014 - accuracy: 0.9723 - val_loss: 0.2651 - val_accuracy: 0.9772\n",
      "\n",
      "Epoch 00044: saving model to /content/gdrive/My Drive/ml model/model_044-0.1014.h5\n",
      "Epoch 45/60\n",
      "70/70 [==============================] - 621s 9s/step - loss: 0.1101 - accuracy: 0.9719 - val_loss: 0.0828 - val_accuracy: 0.9787\n",
      "\n",
      "Epoch 00045: saving model to /content/gdrive/My Drive/ml model/model_045-0.1101.h5\n",
      "Epoch 46/60\n",
      "70/70 [==============================] - 614s 9s/step - loss: 0.1211 - accuracy: 0.9720 - val_loss: 0.1251 - val_accuracy: 0.9786\n",
      "\n",
      "Epoch 00046: saving model to /content/gdrive/My Drive/ml model/model_046-0.1211.h5\n",
      "Epoch 47/60\n",
      "32/70 [============>.................] - ETA: 5:28 - loss: 0.1482 - accuracy: 0.9702"
     ]
    },
    {
     "ename": "KeyboardInterrupt",
     "evalue": "ignored",
     "output_type": "error",
     "traceback": [
      "\u001b[0;31m---------------------------------------------------------------------------\u001b[0m",
      "\u001b[0;31mKeyboardInterrupt\u001b[0m                         Traceback (most recent call last)",
      "\u001b[0;32m<ipython-input-17-5cdbb8d88b35>\u001b[0m in \u001b[0;36m<module>\u001b[0;34m()\u001b[0m\n\u001b[1;32m      9\u001b[0m                     \u001b[0mbatch_size\u001b[0m\u001b[0;34m=\u001b[0m\u001b[0;36m1\u001b[0m\u001b[0;34m,\u001b[0m\u001b[0;34m\u001b[0m\u001b[0;34m\u001b[0m\u001b[0m\n\u001b[1;32m     10\u001b[0m                     \u001b[0mverbose\u001b[0m\u001b[0;34m=\u001b[0m\u001b[0;36m1\u001b[0m\u001b[0;34m,\u001b[0m\u001b[0;34m\u001b[0m\u001b[0;34m\u001b[0m\u001b[0m\n\u001b[0;32m---> 11\u001b[0;31m                     validation_data=(X_test, Y_test),callbacks=[checkpoint])\n\u001b[0m",
      "\u001b[0;32m/usr/local/lib/python3.6/dist-packages/keras/engine/training.py\u001b[0m in \u001b[0;36mfit\u001b[0;34m(self, x, y, batch_size, epochs, verbose, callbacks, validation_split, validation_data, shuffle, class_weight, sample_weight, initial_epoch, steps_per_epoch, validation_steps, validation_freq, max_queue_size, workers, use_multiprocessing, **kwargs)\u001b[0m\n\u001b[1;32m   1237\u001b[0m                                         \u001b[0msteps_per_epoch\u001b[0m\u001b[0;34m=\u001b[0m\u001b[0msteps_per_epoch\u001b[0m\u001b[0;34m,\u001b[0m\u001b[0;34m\u001b[0m\u001b[0;34m\u001b[0m\u001b[0m\n\u001b[1;32m   1238\u001b[0m                                         \u001b[0mvalidation_steps\u001b[0m\u001b[0;34m=\u001b[0m\u001b[0mvalidation_steps\u001b[0m\u001b[0;34m,\u001b[0m\u001b[0;34m\u001b[0m\u001b[0;34m\u001b[0m\u001b[0m\n\u001b[0;32m-> 1239\u001b[0;31m                                         validation_freq=validation_freq)\n\u001b[0m\u001b[1;32m   1240\u001b[0m \u001b[0;34m\u001b[0m\u001b[0m\n\u001b[1;32m   1241\u001b[0m     def evaluate(self,\n",
      "\u001b[0;32m/usr/local/lib/python3.6/dist-packages/keras/engine/training_arrays.py\u001b[0m in \u001b[0;36mfit_loop\u001b[0;34m(model, fit_function, fit_inputs, out_labels, batch_size, epochs, verbose, callbacks, val_function, val_inputs, shuffle, initial_epoch, steps_per_epoch, validation_steps, validation_freq)\u001b[0m\n\u001b[1;32m    194\u001b[0m                     \u001b[0mins_batch\u001b[0m\u001b[0;34m[\u001b[0m\u001b[0mi\u001b[0m\u001b[0;34m]\u001b[0m \u001b[0;34m=\u001b[0m \u001b[0mins_batch\u001b[0m\u001b[0;34m[\u001b[0m\u001b[0mi\u001b[0m\u001b[0;34m]\u001b[0m\u001b[0;34m.\u001b[0m\u001b[0mtoarray\u001b[0m\u001b[0;34m(\u001b[0m\u001b[0;34m)\u001b[0m\u001b[0;34m\u001b[0m\u001b[0;34m\u001b[0m\u001b[0m\n\u001b[1;32m    195\u001b[0m \u001b[0;34m\u001b[0m\u001b[0m\n\u001b[0;32m--> 196\u001b[0;31m                 \u001b[0mouts\u001b[0m \u001b[0;34m=\u001b[0m \u001b[0mfit_function\u001b[0m\u001b[0;34m(\u001b[0m\u001b[0mins_batch\u001b[0m\u001b[0;34m)\u001b[0m\u001b[0;34m\u001b[0m\u001b[0;34m\u001b[0m\u001b[0m\n\u001b[0m\u001b[1;32m    197\u001b[0m                 \u001b[0mouts\u001b[0m \u001b[0;34m=\u001b[0m \u001b[0mto_list\u001b[0m\u001b[0;34m(\u001b[0m\u001b[0mouts\u001b[0m\u001b[0;34m)\u001b[0m\u001b[0;34m\u001b[0m\u001b[0;34m\u001b[0m\u001b[0m\n\u001b[1;32m    198\u001b[0m                 \u001b[0;32mfor\u001b[0m \u001b[0ml\u001b[0m\u001b[0;34m,\u001b[0m \u001b[0mo\u001b[0m \u001b[0;32min\u001b[0m \u001b[0mzip\u001b[0m\u001b[0;34m(\u001b[0m\u001b[0mout_labels\u001b[0m\u001b[0;34m,\u001b[0m \u001b[0mouts\u001b[0m\u001b[0;34m)\u001b[0m\u001b[0;34m:\u001b[0m\u001b[0;34m\u001b[0m\u001b[0;34m\u001b[0m\u001b[0m\n",
      "\u001b[0;32m/usr/local/lib/python3.6/dist-packages/tensorflow/python/keras/backend.py\u001b[0m in \u001b[0;36m__call__\u001b[0;34m(self, inputs)\u001b[0m\n\u001b[1;32m   3790\u001b[0m         \u001b[0mvalue\u001b[0m \u001b[0;34m=\u001b[0m \u001b[0mmath_ops\u001b[0m\u001b[0;34m.\u001b[0m\u001b[0mcast\u001b[0m\u001b[0;34m(\u001b[0m\u001b[0mvalue\u001b[0m\u001b[0;34m,\u001b[0m \u001b[0mtensor\u001b[0m\u001b[0;34m.\u001b[0m\u001b[0mdtype\u001b[0m\u001b[0;34m)\u001b[0m\u001b[0;34m\u001b[0m\u001b[0;34m\u001b[0m\u001b[0m\n\u001b[1;32m   3791\u001b[0m       \u001b[0mconverted_inputs\u001b[0m\u001b[0;34m.\u001b[0m\u001b[0mappend\u001b[0m\u001b[0;34m(\u001b[0m\u001b[0mvalue\u001b[0m\u001b[0;34m)\u001b[0m\u001b[0;34m\u001b[0m\u001b[0;34m\u001b[0m\u001b[0m\n\u001b[0;32m-> 3792\u001b[0;31m     \u001b[0moutputs\u001b[0m \u001b[0;34m=\u001b[0m \u001b[0mself\u001b[0m\u001b[0;34m.\u001b[0m\u001b[0m_graph_fn\u001b[0m\u001b[0;34m(\u001b[0m\u001b[0;34m*\u001b[0m\u001b[0mconverted_inputs\u001b[0m\u001b[0;34m)\u001b[0m\u001b[0;34m\u001b[0m\u001b[0;34m\u001b[0m\u001b[0m\n\u001b[0m\u001b[1;32m   3793\u001b[0m \u001b[0;34m\u001b[0m\u001b[0m\n\u001b[1;32m   3794\u001b[0m     \u001b[0;31m# EagerTensor.numpy() will often make a copy to ensure memory safety.\u001b[0m\u001b[0;34m\u001b[0m\u001b[0;34m\u001b[0m\u001b[0;34m\u001b[0m\u001b[0m\n",
      "\u001b[0;32m/usr/local/lib/python3.6/dist-packages/tensorflow/python/eager/function.py\u001b[0m in \u001b[0;36m__call__\u001b[0;34m(self, *args, **kwargs)\u001b[0m\n\u001b[1;32m   1603\u001b[0m       \u001b[0mTypeError\u001b[0m\u001b[0;34m:\u001b[0m \u001b[0mFor\u001b[0m \u001b[0minvalid\u001b[0m \u001b[0mpositional\u001b[0m\u001b[0;34m/\u001b[0m\u001b[0mkeyword\u001b[0m \u001b[0margument\u001b[0m \u001b[0mcombinations\u001b[0m\u001b[0;34m.\u001b[0m\u001b[0;34m\u001b[0m\u001b[0;34m\u001b[0m\u001b[0m\n\u001b[1;32m   1604\u001b[0m     \"\"\"\n\u001b[0;32m-> 1605\u001b[0;31m     \u001b[0;32mreturn\u001b[0m \u001b[0mself\u001b[0m\u001b[0;34m.\u001b[0m\u001b[0m_call_impl\u001b[0m\u001b[0;34m(\u001b[0m\u001b[0margs\u001b[0m\u001b[0;34m,\u001b[0m \u001b[0mkwargs\u001b[0m\u001b[0;34m)\u001b[0m\u001b[0;34m\u001b[0m\u001b[0;34m\u001b[0m\u001b[0m\n\u001b[0m\u001b[1;32m   1606\u001b[0m \u001b[0;34m\u001b[0m\u001b[0m\n\u001b[1;32m   1607\u001b[0m   \u001b[0;32mdef\u001b[0m \u001b[0m_call_impl\u001b[0m\u001b[0;34m(\u001b[0m\u001b[0mself\u001b[0m\u001b[0;34m,\u001b[0m \u001b[0margs\u001b[0m\u001b[0;34m,\u001b[0m \u001b[0mkwargs\u001b[0m\u001b[0;34m,\u001b[0m \u001b[0mcancellation_manager\u001b[0m\u001b[0;34m=\u001b[0m\u001b[0;32mNone\u001b[0m\u001b[0;34m)\u001b[0m\u001b[0;34m:\u001b[0m\u001b[0;34m\u001b[0m\u001b[0;34m\u001b[0m\u001b[0m\n",
      "\u001b[0;32m/usr/local/lib/python3.6/dist-packages/tensorflow/python/eager/function.py\u001b[0m in \u001b[0;36m_call_impl\u001b[0;34m(self, args, kwargs, cancellation_manager)\u001b[0m\n\u001b[1;32m   1643\u001b[0m       raise TypeError(\"Keyword arguments {} unknown. Expected {}.\".format(\n\u001b[1;32m   1644\u001b[0m           list(kwargs.keys()), list(self._arg_keywords)))\n\u001b[0;32m-> 1645\u001b[0;31m     \u001b[0;32mreturn\u001b[0m \u001b[0mself\u001b[0m\u001b[0;34m.\u001b[0m\u001b[0m_call_flat\u001b[0m\u001b[0;34m(\u001b[0m\u001b[0margs\u001b[0m\u001b[0;34m,\u001b[0m \u001b[0mself\u001b[0m\u001b[0;34m.\u001b[0m\u001b[0mcaptured_inputs\u001b[0m\u001b[0;34m,\u001b[0m \u001b[0mcancellation_manager\u001b[0m\u001b[0;34m)\u001b[0m\u001b[0;34m\u001b[0m\u001b[0;34m\u001b[0m\u001b[0m\n\u001b[0m\u001b[1;32m   1646\u001b[0m \u001b[0;34m\u001b[0m\u001b[0m\n\u001b[1;32m   1647\u001b[0m   \u001b[0;32mdef\u001b[0m \u001b[0m_filtered_call\u001b[0m\u001b[0;34m(\u001b[0m\u001b[0mself\u001b[0m\u001b[0;34m,\u001b[0m \u001b[0margs\u001b[0m\u001b[0;34m,\u001b[0m \u001b[0mkwargs\u001b[0m\u001b[0;34m)\u001b[0m\u001b[0;34m:\u001b[0m\u001b[0;34m\u001b[0m\u001b[0;34m\u001b[0m\u001b[0m\n",
      "\u001b[0;32m/usr/local/lib/python3.6/dist-packages/tensorflow/python/eager/function.py\u001b[0m in \u001b[0;36m_call_flat\u001b[0;34m(self, args, captured_inputs, cancellation_manager)\u001b[0m\n\u001b[1;32m   1744\u001b[0m       \u001b[0;31m# No tape is watching; skip to running the function.\u001b[0m\u001b[0;34m\u001b[0m\u001b[0;34m\u001b[0m\u001b[0;34m\u001b[0m\u001b[0m\n\u001b[1;32m   1745\u001b[0m       return self._build_call_outputs(self._inference_function.call(\n\u001b[0;32m-> 1746\u001b[0;31m           ctx, args, cancellation_manager=cancellation_manager))\n\u001b[0m\u001b[1;32m   1747\u001b[0m     forward_backward = self._select_forward_and_backward_functions(\n\u001b[1;32m   1748\u001b[0m         \u001b[0margs\u001b[0m\u001b[0;34m,\u001b[0m\u001b[0;34m\u001b[0m\u001b[0;34m\u001b[0m\u001b[0m\n",
      "\u001b[0;32m/usr/local/lib/python3.6/dist-packages/tensorflow/python/eager/function.py\u001b[0m in \u001b[0;36mcall\u001b[0;34m(self, ctx, args, cancellation_manager)\u001b[0m\n\u001b[1;32m    596\u001b[0m               \u001b[0minputs\u001b[0m\u001b[0;34m=\u001b[0m\u001b[0margs\u001b[0m\u001b[0;34m,\u001b[0m\u001b[0;34m\u001b[0m\u001b[0;34m\u001b[0m\u001b[0m\n\u001b[1;32m    597\u001b[0m               \u001b[0mattrs\u001b[0m\u001b[0;34m=\u001b[0m\u001b[0mattrs\u001b[0m\u001b[0;34m,\u001b[0m\u001b[0;34m\u001b[0m\u001b[0;34m\u001b[0m\u001b[0m\n\u001b[0;32m--> 598\u001b[0;31m               ctx=ctx)\n\u001b[0m\u001b[1;32m    599\u001b[0m         \u001b[0;32melse\u001b[0m\u001b[0;34m:\u001b[0m\u001b[0;34m\u001b[0m\u001b[0;34m\u001b[0m\u001b[0m\n\u001b[1;32m    600\u001b[0m           outputs = execute.execute_with_cancellation(\n",
      "\u001b[0;32m/usr/local/lib/python3.6/dist-packages/tensorflow/python/eager/execute.py\u001b[0m in \u001b[0;36mquick_execute\u001b[0;34m(op_name, num_outputs, inputs, attrs, ctx, name)\u001b[0m\n\u001b[1;32m     58\u001b[0m     \u001b[0mctx\u001b[0m\u001b[0;34m.\u001b[0m\u001b[0mensure_initialized\u001b[0m\u001b[0;34m(\u001b[0m\u001b[0;34m)\u001b[0m\u001b[0;34m\u001b[0m\u001b[0;34m\u001b[0m\u001b[0m\n\u001b[1;32m     59\u001b[0m     tensors = pywrap_tfe.TFE_Py_Execute(ctx._handle, device_name, op_name,\n\u001b[0;32m---> 60\u001b[0;31m                                         inputs, attrs, num_outputs)\n\u001b[0m\u001b[1;32m     61\u001b[0m   \u001b[0;32mexcept\u001b[0m \u001b[0mcore\u001b[0m\u001b[0;34m.\u001b[0m\u001b[0m_NotOkStatusException\u001b[0m \u001b[0;32mas\u001b[0m \u001b[0me\u001b[0m\u001b[0;34m:\u001b[0m\u001b[0;34m\u001b[0m\u001b[0;34m\u001b[0m\u001b[0m\n\u001b[1;32m     62\u001b[0m     \u001b[0;32mif\u001b[0m \u001b[0mname\u001b[0m \u001b[0;32mis\u001b[0m \u001b[0;32mnot\u001b[0m \u001b[0;32mNone\u001b[0m\u001b[0;34m:\u001b[0m\u001b[0;34m\u001b[0m\u001b[0;34m\u001b[0m\u001b[0m\n",
      "\u001b[0;31mKeyboardInterrupt\u001b[0m: "
     ]
    }
   ],
   "source": [
    "epochs = 60\n",
    "new_model = load_model('/content/gdrive/My Drive/model_001-3.1718.h5')\n",
    "filepath = \"/content/gdrive/My Drive/ml model/model_{epoch:03d}-{loss:.4f}.h5\"\n",
    "checkpoint = ModelCheckpoint(filepath, monitor='loss', verbose=1, save_best_only=False, mode='min')\n",
    "callbacks_list = [checkpoint]\n",
    "history = new_model.fit(X_train, \n",
    "                    Y_train, \n",
    "                    epochs=epochs, \n",
    "                    batch_size=1,\n",
    "                    verbose=1,\n",
    "                    validation_data=(X_test, Y_test),callbacks=[checkpoint])"
   ]
  },
  {
   "cell_type": "code",
   "execution_count": null,
   "metadata": {
    "colab": {
     "base_uri": "https://localhost:8080/",
     "height": 1000
    },
    "colab_type": "code",
    "id": "_X8Vq21lJAk6",
    "outputId": "a5821b6a-74f5-43f7-c9a3-11f20623e37e"
   },
   "outputs": [
    {
     "name": "stdout",
     "output_type": "stream",
     "text": [
      "Train on 70 samples, validate on 17 samples\n",
      "Epoch 1/60\n",
      "70/70 [==============================] - 619s 9s/step - loss: 0.1004 - accuracy: 0.9729 - val_loss: 0.0768 - val_accuracy: 0.9790\n",
      "\n",
      "Epoch 00001: saving model to /content/gdrive/My Drive/ml model/model_001-0.1004.h5\n",
      "Epoch 2/60\n",
      "70/70 [==============================] - 611s 9s/step - loss: 0.0986 - accuracy: 0.9728 - val_loss: 0.0896 - val_accuracy: 0.9791\n",
      "\n",
      "Epoch 00002: saving model to /content/gdrive/My Drive/ml model/model_002-0.0986.h5\n",
      "Epoch 3/60\n",
      "70/70 [==============================] - 614s 9s/step - loss: 0.1110 - accuracy: 0.9719 - val_loss: 0.0785 - val_accuracy: 0.9791\n",
      "\n",
      "Epoch 00003: saving model to /content/gdrive/My Drive/ml model/model_003-0.1110.h5\n",
      "Epoch 4/60\n",
      "70/70 [==============================] - 612s 9s/step - loss: 0.1227 - accuracy: 0.9719 - val_loss: 0.1182 - val_accuracy: 0.9786\n",
      "\n",
      "Epoch 00004: saving model to /content/gdrive/My Drive/ml model/model_004-0.1227.h5\n",
      "Epoch 5/60\n",
      "70/70 [==============================] - 612s 9s/step - loss: 0.1748 - accuracy: 0.9713 - val_loss: 0.1288 - val_accuracy: 0.9785\n",
      "\n",
      "Epoch 00005: saving model to /content/gdrive/My Drive/ml model/model_005-0.1748.h5\n",
      "Epoch 6/60\n",
      "70/70 [==============================] - 618s 9s/step - loss: 0.2494 - accuracy: 0.9713 - val_loss: 0.2163 - val_accuracy: 0.9785\n",
      "\n",
      "Epoch 00006: saving model to /content/gdrive/My Drive/ml model/model_006-0.2494.h5\n",
      "Epoch 7/60\n",
      "70/70 [==============================] - 616s 9s/step - loss: 0.2059 - accuracy: 0.9713 - val_loss: 0.2493 - val_accuracy: 0.9750\n",
      "\n",
      "Epoch 00007: saving model to /content/gdrive/My Drive/ml model/model_007-0.2059.h5\n",
      "Epoch 8/60\n",
      "70/70 [==============================] - 613s 9s/step - loss: 0.2648 - accuracy: 0.9712 - val_loss: 0.2099 - val_accuracy: 0.9775\n",
      "\n",
      "Epoch 00008: saving model to /content/gdrive/My Drive/ml model/model_008-0.2648.h5\n",
      "Epoch 9/60\n",
      "70/70 [==============================] - 616s 9s/step - loss: 0.2356 - accuracy: 0.9713 - val_loss: 0.1554 - val_accuracy: 0.9786\n",
      "\n",
      "Epoch 00009: saving model to /content/gdrive/My Drive/ml model/model_009-0.2356.h5\n",
      "Epoch 10/60\n",
      "70/70 [==============================] - 618s 9s/step - loss: 0.2425 - accuracy: 0.9713 - val_loss: 0.2901 - val_accuracy: 0.9785\n",
      "\n",
      "Epoch 00010: saving model to /content/gdrive/My Drive/ml model/model_010-0.2425.h5\n",
      "Epoch 11/60\n",
      "70/70 [==============================] - 616s 9s/step - loss: 0.2451 - accuracy: 0.9713 - val_loss: 0.1597 - val_accuracy: 0.9786\n",
      "\n",
      "Epoch 00011: saving model to /content/gdrive/My Drive/ml model/model_011-0.2451.h5\n",
      "Epoch 12/60\n",
      "70/70 [==============================] - 614s 9s/step - loss: 0.2642 - accuracy: 0.9713 - val_loss: 0.1929 - val_accuracy: 0.9786\n",
      "\n",
      "Epoch 00012: saving model to /content/gdrive/My Drive/ml model/model_012-0.2642.h5\n",
      "Epoch 13/60\n",
      "70/70 [==============================] - 618s 9s/step - loss: 0.2673 - accuracy: 0.9713 - val_loss: 0.2116 - val_accuracy: 0.9786\n",
      "\n",
      "Epoch 00013: saving model to /content/gdrive/My Drive/ml model/model_013-0.2673.h5\n",
      "Epoch 14/60\n",
      "70/70 [==============================] - 611s 9s/step - loss: 0.2786 - accuracy: 0.9713 - val_loss: 0.2777 - val_accuracy: 0.9785\n",
      "\n",
      "Epoch 00014: saving model to /content/gdrive/My Drive/ml model/model_014-0.2786.h5\n",
      "Epoch 15/60\n",
      "70/70 [==============================] - 610s 9s/step - loss: 0.5059 - accuracy: 0.9713 - val_loss: 0.4572 - val_accuracy: 0.9786\n",
      "\n",
      "Epoch 00015: saving model to /content/gdrive/My Drive/ml model/model_015-0.5059.h5\n",
      "Epoch 16/60\n",
      "70/70 [==============================] - 613s 9s/step - loss: 0.4668 - accuracy: 0.9714 - val_loss: 0.3476 - val_accuracy: 0.9786\n",
      "\n",
      "Epoch 00016: saving model to /content/gdrive/My Drive/ml model/model_016-0.4668.h5\n",
      "Epoch 17/60\n",
      "70/70 [==============================] - 614s 9s/step - loss: 0.3861 - accuracy: 0.9714 - val_loss: 0.3089 - val_accuracy: 0.9786\n",
      "\n",
      "Epoch 00017: saving model to /content/gdrive/My Drive/ml model/model_017-0.3861.h5\n",
      "Epoch 18/60\n",
      "70/70 [==============================] - 613s 9s/step - loss: 0.3129 - accuracy: 0.9714 - val_loss: 0.2830 - val_accuracy: 0.9786\n",
      "\n",
      "Epoch 00018: saving model to /content/gdrive/My Drive/ml model/model_018-0.3129.h5\n",
      "Epoch 19/60\n",
      "26/70 [==========>...................] - ETA: 6:18 - loss: 0.2402 - accuracy: 0.9745"
     ]
    }
   ],
   "source": [
    "epochs = 60\n",
    "new_model = load_model('/content/gdrive/My Drive/ml model/model_041-0.1031.h5')\n",
    "filepath = \"/content/gdrive/My Drive/ml model/model_{epoch:03d}-{loss:.4f}.h5\"\n",
    "checkpoint = ModelCheckpoint(filepath, monitor='loss', verbose=1, save_best_only=False, mode='min')\n",
    "callbacks_list = [checkpoint]\n",
    "history = new_model.fit(X_train, \n",
    "                    Y_train, \n",
    "                    epochs=epochs, \n",
    "                    batch_size=1,\n",
    "                    verbose=1,\n",
    "                    validation_data=(X_test, Y_test),callbacks=[checkpoint])"
   ]
  },
  {
   "cell_type": "code",
   "execution_count": null,
   "metadata": {
    "colab": {},
    "colab_type": "code",
    "id": "uRrRTuVLs8NW"
   },
   "outputs": [],
   "source": [
    "from google.colab import files\n",
    "files.download(\"/content/gdrive/My Drive/model_001-3.1718.h5\")"
   ]
  },
  {
   "cell_type": "code",
   "execution_count": null,
   "metadata": {
    "colab": {},
    "colab_type": "code",
    "id": "wmLB5NtJ0Xtx"
   },
   "outputs": [],
   "source": [
    "epochs = 40\n",
    "filepath = \"model_039-0.0731.h5\"\n",
    "checkpoint = ModelCheckpoint(filepath, monitor='loss', verbose=1, save_best_only=False, mode='min')\n",
    "callbacks_list = [checkpoint]"
   ]
  },
  {
   "cell_type": "code",
   "execution_count": null,
   "metadata": {
    "colab": {
     "base_uri": "https://localhost:8080/",
     "height": 292
    },
    "colab_type": "code",
    "executionInfo": {
     "elapsed": 469,
     "status": "error",
     "timestamp": 1587053135026,
     "user": {
      "displayName": "Clara Bai",
      "photoUrl": "https://lh3.googleusercontent.com/a-/AOh14GiYvZjNzCegvTO2CNpWAJ987eowMXL5e1eTL69ipA=s64",
      "userId": "14740747600813591913"
     },
     "user_tz": 240
    },
    "id": "AttvpQQVvKdj",
    "outputId": "21633357-2701-4588-d970-356992652691"
   },
   "outputs": [
    {
     "ename": "NotImplementedError",
     "evalue": "ignored",
     "output_type": "error",
     "traceback": [
      "\u001b[0;31m---------------------------------------------------------------------------\u001b[0m",
      "\u001b[0;31mNotImplementedError\u001b[0m                       Traceback (most recent call last)",
      "\u001b[0;32m<ipython-input-22-3fdc37dad669>\u001b[0m in \u001b[0;36m<module>\u001b[0;34m()\u001b[0m\n\u001b[0;32m----> 1\u001b[0;31m \u001b[0mModel\u001b[0m\u001b[0;34m(\u001b[0m\u001b[0;34m\"model_040-0.0645.h5\"\u001b[0m\u001b[0;34m)\u001b[0m\u001b[0;34m.\u001b[0m\u001b[0msave\u001b[0m\u001b[0;34m(\u001b[0m\u001b[0;34m'model_040-0.0645.h5'\u001b[0m\u001b[0;34m)\u001b[0m\u001b[0;34m\u001b[0m\u001b[0;34m\u001b[0m\u001b[0m\n\u001b[0m",
      "\u001b[0;32m/usr/local/lib/python3.6/dist-packages/keras/engine/network.py\u001b[0m in \u001b[0;36msave\u001b[0;34m(self, filepath, overwrite, include_optimizer)\u001b[0m\n\u001b[1;32m   1148\u001b[0m         \"\"\"\n\u001b[1;32m   1149\u001b[0m         \u001b[0;32mif\u001b[0m \u001b[0;32mnot\u001b[0m \u001b[0mself\u001b[0m\u001b[0;34m.\u001b[0m\u001b[0m_is_graph_network\u001b[0m\u001b[0;34m:\u001b[0m\u001b[0;34m\u001b[0m\u001b[0;34m\u001b[0m\u001b[0m\n\u001b[0;32m-> 1150\u001b[0;31m             \u001b[0;32mraise\u001b[0m \u001b[0mNotImplementedError\u001b[0m\u001b[0;34m\u001b[0m\u001b[0;34m\u001b[0m\u001b[0m\n\u001b[0m\u001b[1;32m   1151\u001b[0m         \u001b[0;32mfrom\u001b[0m \u001b[0;34m.\u001b[0m\u001b[0;34m.\u001b[0m\u001b[0mmodels\u001b[0m \u001b[0;32mimport\u001b[0m \u001b[0msave_model\u001b[0m\u001b[0;34m\u001b[0m\u001b[0;34m\u001b[0m\u001b[0m\n\u001b[1;32m   1152\u001b[0m         \u001b[0msave_model\u001b[0m\u001b[0;34m(\u001b[0m\u001b[0mself\u001b[0m\u001b[0;34m,\u001b[0m \u001b[0mfilepath\u001b[0m\u001b[0;34m,\u001b[0m \u001b[0moverwrite\u001b[0m\u001b[0;34m,\u001b[0m \u001b[0minclude_optimizer\u001b[0m\u001b[0;34m)\u001b[0m\u001b[0;34m\u001b[0m\u001b[0;34m\u001b[0m\u001b[0m\n",
      "\u001b[0;31mNotImplementedError\u001b[0m: "
     ]
    }
   ],
   "source": [
    "Model(\"model_040-0.0645.h5\").save('model_040-0.0645.h5')"
   ]
  }
 ],
 "metadata": {
  "accelerator": "TPU",
  "colab": {
   "collapsed_sections": [],
   "machine_shape": "hm",
   "name": "rb7^3/87 samples train.ipynb",
   "provenance": [
    {
     "file_id": "1HW_V5Ry53za9FvbnW5gqFsp3iUC0Rxb8",
     "timestamp": 1586991891154
    }
   ]
  },
  "kernelspec": {
   "display_name": "Python 3",
   "language": "python",
   "name": "python3"
  },
  "language_info": {
   "codemirror_mode": {
    "name": "ipython",
    "version": 3
   },
   "file_extension": ".py",
   "mimetype": "text/x-python",
   "name": "python",
   "nbconvert_exporter": "python",
   "pygments_lexer": "ipython3",
   "version": "3.7.4"
  }
 },
 "nbformat": 4,
 "nbformat_minor": 1
}
